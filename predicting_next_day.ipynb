{
 "cells": [
  {
   "cell_type": "markdown",
   "metadata": {},
   "source": [
    "## Data Preprecessing"
   ]
  },
  {
   "cell_type": "code",
   "execution_count": 1,
   "metadata": {},
   "outputs": [],
   "source": [
    "import numpy as np\n",
    "import matplotlib.pyplot as plt\n",
    "import pandas as pd"
   ]
  },
  {
   "cell_type": "code",
   "execution_count": 2,
   "metadata": {},
   "outputs": [],
   "source": [
    "wl = 60  # how many days the model uses to predict the next day\n",
    "test_period = 20"
   ]
  },
  {
   "cell_type": "markdown",
   "metadata": {},
   "source": [
    "### Load and split data"
   ]
  },
  {
   "cell_type": "code",
   "execution_count": 3,
   "metadata": {
    "scrolled": true
   },
   "outputs": [],
   "source": [
    "dataset = pd.read_csv('BTC-USD.csv')['Close']\n",
    "data = dataset.values.reshape(-1,1) # get np array version"
   ]
  },
  {
   "cell_type": "code",
   "execution_count": 4,
   "metadata": {},
   "outputs": [],
   "source": [
    "def train_test_split(data, test_period):\n",
    "    data_train = data[:-test_period]\n",
    "    data_test = data[-test_period:]\n",
    "    return data_train, data_test"
   ]
  },
  {
   "cell_type": "code",
   "execution_count": 5,
   "metadata": {},
   "outputs": [],
   "source": [
    "train, test = train_test_split(data, test_period)"
   ]
  },
  {
   "cell_type": "markdown",
   "metadata": {},
   "source": [
    "### Feature Scaling"
   ]
  },
  {
   "cell_type": "code",
   "execution_count": 6,
   "metadata": {},
   "outputs": [],
   "source": [
    "from sklearn.preprocessing import MinMaxScaler"
   ]
  },
  {
   "cell_type": "code",
   "execution_count": 7,
   "metadata": {},
   "outputs": [],
   "source": [
    "sc = MinMaxScaler(feature_range=(0,1))\n",
    "train_scaled = sc.fit_transform(train)"
   ]
  },
  {
   "cell_type": "markdown",
   "metadata": {},
   "source": [
    "### Windowing Data"
   ]
  },
  {
   "cell_type": "code",
   "execution_count": 8,
   "metadata": {},
   "outputs": [],
   "source": [
    "X_train = np.array([train_scaled[i-wl:i, 0] for i in range(wl, len(train))])\n",
    "y_train = np.array([train_scaled[i, 0] for i in range(wl, len(train))])"
   ]
  },
  {
   "cell_type": "code",
   "execution_count": 9,
   "metadata": {},
   "outputs": [],
   "source": [
    "X_train = np.reshape(X_train, (X_train.shape[0], X_train.shape[1], 1))"
   ]
  },
  {
   "cell_type": "markdown",
   "metadata": {},
   "source": [
    "## Building the Model"
   ]
  },
  {
   "cell_type": "code",
   "execution_count": 13,
   "metadata": {},
   "outputs": [],
   "source": [
    "from tensorflow.keras.models import Sequential\n",
    "from tensorflow.keras.layers import Activation, Dense, Dropout, LSTM"
   ]
  },
  {
   "cell_type": "code",
   "execution_count": 14,
   "metadata": {},
   "outputs": [],
   "source": [
    "def build_lstm_model(data, num_neurons = 50, activ_func='linear', \n",
    "                     dropout=0.2, loss='mse', optimizer='adam'):\n",
    "    model = Sequential()\n",
    "    # layer 1\n",
    "    model.add(LSTM(units=num_neurons, return_sequences=True, input_shape=(data.shape[1], 1)))\n",
    "    model.add(Dropout(dropout))\n",
    "    # layer 2\n",
    "    model.add(LSTM(units=num_neurons, return_sequences=True))\n",
    "    model.add(Dropout(dropout))\n",
    "    # layer 3\n",
    "    model.add(LSTM(units=num_neurons, return_sequences=True))\n",
    "    model.add(Dropout(dropout))\n",
    "    # layer 4\n",
    "    model.add(LSTM(units=num_neurons))\n",
    "    model.add(Dropout(dropout))\n",
    "    # ouput layer\n",
    "    model.add(Dense(units=1))\n",
    "    # model.add(Activation(activ_func))\n",
    "    model.compile(optimizer=optimizer, loss=loss)\n",
    "    return model"
   ]
  },
  {
   "cell_type": "code",
   "execution_count": 15,
   "metadata": {},
   "outputs": [],
   "source": [
    "model = build_lstm_model(X_train)"
   ]
  },
  {
   "cell_type": "markdown",
   "metadata": {},
   "source": [
    "## Training the Model"
   ]
  },
  {
   "cell_type": "code",
   "execution_count": null,
   "metadata": {},
   "outputs": [],
   "source": []
  },
  {
   "cell_type": "code",
   "execution_count": 16,
   "metadata": {
    "scrolled": true
   },
   "outputs": [
    {
     "name": "stdout",
     "output_type": "stream",
     "text": [
      "Train on 1958 samples\n",
      "Epoch 1/100\n",
      "1958/1958 [==============================] - 10s 5ms/sample - loss: 0.009412s - \n",
      "Epoch 2/100\n",
      "1958/1958 [==============================] - 1s 673us/sample - loss: 0.0029\n",
      "Epoch 3/100\n",
      "1958/1958 [==============================] - 1s 465us/sample - loss: 0.0031\n",
      "Epoch 4/100\n",
      "1958/1958 [==============================] - 1s 465us/sample - loss: 0.0024\n",
      "Epoch 5/100\n",
      "1958/1958 [==============================] - 1s 464us/sample - loss: 0.0025\n",
      "Epoch 6/100\n",
      "1958/1958 [==============================] - 1s 449us/sample - loss: 0.0023\n",
      "Epoch 7/100\n",
      "1958/1958 [==============================] - 1s 450us/sample - loss: 0.0019\n",
      "Epoch 8/100\n",
      "1958/1958 [==============================] - 1s 451us/sample - loss: 0.0025\n",
      "Epoch 9/100\n",
      "1958/1958 [==============================] - 1s 448us/sample - loss: 0.0021\n",
      "Epoch 10/100\n",
      "1958/1958 [==============================] - 1s 444us/sample - loss: 0.0019\n",
      "Epoch 11/100\n",
      "1958/1958 [==============================] - 1s 439us/sample - loss: 0.0015\n",
      "Epoch 12/100\n",
      "1958/1958 [==============================] - 1s 440us/sample - loss: 0.0018\n",
      "Epoch 13/100\n",
      "1958/1958 [==============================] - 1s 446us/sample - loss: 0.0018\n",
      "Epoch 14/100\n",
      "1958/1958 [==============================] - 1s 474us/sample - loss: 0.0015\n",
      "Epoch 15/100\n",
      "1958/1958 [==============================] - 1s 486us/sample - loss: 0.0015\n",
      "Epoch 16/100\n",
      "1958/1958 [==============================] - 1s 476us/sample - loss: 0.0013\n",
      "Epoch 17/100\n",
      "1958/1958 [==============================] - 1s 462us/sample - loss: 0.0014\n",
      "Epoch 18/100\n",
      "1958/1958 [==============================] - 1s 439us/sample - loss: 0.0015\n",
      "Epoch 19/100\n",
      "1958/1958 [==============================] - 1s 448us/sample - loss: 0.0014\n",
      "Epoch 20/100\n",
      "1958/1958 [==============================] - 1s 449us/sample - loss: 0.0014\n",
      "Epoch 21/100\n",
      "1958/1958 [==============================] - 1s 449us/sample - loss: 0.0014\n",
      "Epoch 22/100\n",
      "1958/1958 [==============================] - 1s 456us/sample - loss: 0.0013\n",
      "Epoch 23/100\n",
      "1958/1958 [==============================] - 1s 440us/sample - loss: 0.0013\n",
      "Epoch 24/100\n",
      "1958/1958 [==============================] - 1s 435us/sample - loss: 0.0013\n",
      "Epoch 25/100\n",
      "1958/1958 [==============================] - 1s 437us/sample - loss: 0.0012\n",
      "Epoch 26/100\n",
      "1958/1958 [==============================] - 1s 440us/sample - loss: 0.0013\n",
      "Epoch 27/100\n",
      "1958/1958 [==============================] - 1s 441us/sample - loss: 0.0012\n",
      "Epoch 28/100\n",
      "1958/1958 [==============================] - 1s 438us/sample - loss: 0.0012\n",
      "Epoch 29/100\n",
      "1958/1958 [==============================] - 1s 440us/sample - loss: 0.0010\n",
      "Epoch 30/100\n",
      "1958/1958 [==============================] - 1s 454us/sample - loss: 0.0012\n",
      "Epoch 31/100\n",
      "1958/1958 [==============================] - 1s 447us/sample - loss: 0.0011\n",
      "Epoch 32/100\n",
      "1958/1958 [==============================] - 1s 441us/sample - loss: 0.0011\n",
      "Epoch 33/100\n",
      "1958/1958 [==============================] - 1s 442us/sample - loss: 0.0011\n",
      "Epoch 34/100\n",
      "1958/1958 [==============================] - 1s 446us/sample - loss: 0.0012\n",
      "Epoch 35/100\n",
      "1958/1958 [==============================] - 1s 444us/sample - loss: 9.9171e-04\n",
      "Epoch 36/100\n",
      "1958/1958 [==============================] - 1s 475us/sample - loss: 0.0012\n",
      "Epoch 37/100\n",
      "1958/1958 [==============================] - 1s 447us/sample - loss: 0.0011\n",
      "Epoch 38/100\n",
      "1958/1958 [==============================] - 1s 445us/sample - loss: 9.6718e-04\n",
      "Epoch 39/100\n",
      "1958/1958 [==============================] - 1s 442us/sample - loss: 0.0010\n",
      "Epoch 40/100\n",
      "1958/1958 [==============================] - 1s 436us/sample - loss: 0.0011\n",
      "Epoch 41/100\n",
      "1958/1958 [==============================] - 1s 442us/sample - loss: 9.3189e-04\n",
      "Epoch 42/100\n",
      "1958/1958 [==============================] - 1s 439us/sample - loss: 9.5209e-04\n",
      "Epoch 43/100\n",
      "1958/1958 [==============================] - 1s 440us/sample - loss: 9.0175e-04\n",
      "Epoch 44/100\n",
      "1958/1958 [==============================] - 1s 445us/sample - loss: 8.5784e-04s - loss: 7\n",
      "Epoch 45/100\n",
      "1958/1958 [==============================] - 1s 444us/sample - loss: 9.4301e-04\n",
      "Epoch 46/100\n",
      "1958/1958 [==============================] - 1s 436us/sample - loss: 8.6362e-04\n",
      "Epoch 47/100\n",
      "1958/1958 [==============================] - 1s 436us/sample - loss: 9.0916e-04\n",
      "Epoch 48/100\n",
      "1958/1958 [==============================] - 1s 434us/sample - loss: 8.7756e-04\n",
      "Epoch 49/100\n",
      "1958/1958 [==============================] - 1s 438us/sample - loss: 0.0010\n",
      "Epoch 50/100\n",
      "1958/1958 [==============================] - 1s 438us/sample - loss: 9.1889e-04\n",
      "Epoch 51/100\n",
      "1958/1958 [==============================] - 1s 444us/sample - loss: 8.9750e-04\n",
      "Epoch 52/100\n",
      "1958/1958 [==============================] - 1s 464us/sample - loss: 8.5339e-04\n",
      "Epoch 53/100\n",
      "1958/1958 [==============================] - 1s 463us/sample - loss: 0.0010\n",
      "Epoch 54/100\n",
      "1958/1958 [==============================] - 1s 438us/sample - loss: 8.2137e-04\n",
      "Epoch 55/100\n",
      "1958/1958 [==============================] - 1s 477us/sample - loss: 9.6382e-04\n",
      "Epoch 56/100\n",
      "1958/1958 [==============================] - 1s 487us/sample - loss: 9.1745e-04s - l\n",
      "Epoch 57/100\n",
      "1958/1958 [==============================] - 1s 578us/sample - loss: 9.0696e-04\n",
      "Epoch 58/100\n",
      "1958/1958 [==============================] - 1s 458us/sample - loss: 7.2728e-04\n",
      "Epoch 59/100\n",
      "1958/1958 [==============================] - 1s 439us/sample - loss: 8.9508e-04\n",
      "Epoch 60/100\n",
      "1958/1958 [==============================] - 1s 439us/sample - loss: 7.3086e-04\n",
      "Epoch 61/100\n",
      "1958/1958 [==============================] - 1s 457us/sample - loss: 8.0893e-04\n",
      "Epoch 62/100\n",
      "1958/1958 [==============================] - 1s 443us/sample - loss: 8.0205e-04\n",
      "Epoch 63/100\n",
      "1958/1958 [==============================] - 1s 457us/sample - loss: 8.1813e-04\n",
      "Epoch 64/100\n",
      "1958/1958 [==============================] - 1s 448us/sample - loss: 9.0337e-04\n",
      "Epoch 65/100\n",
      "1958/1958 [==============================] - 1s 446us/sample - loss: 8.9602e-04\n",
      "Epoch 66/100\n",
      "1958/1958 [==============================] - 1s 454us/sample - loss: 8.4948e-04\n",
      "Epoch 67/100\n",
      "1958/1958 [==============================] - 1s 447us/sample - loss: 7.9464e-04\n",
      "Epoch 68/100\n",
      "1958/1958 [==============================] - 1s 447us/sample - loss: 7.8765e-04\n",
      "Epoch 69/100\n",
      "1958/1958 [==============================] - 1s 435us/sample - loss: 9.3880e-04\n",
      "Epoch 70/100\n",
      "1958/1958 [==============================] - 1s 439us/sample - loss: 7.5816e-04\n",
      "Epoch 71/100\n",
      "1958/1958 [==============================] - 1s 437us/sample - loss: 8.2121e-04\n",
      "Epoch 72/100\n",
      "1958/1958 [==============================] - 1s 441us/sample - loss: 8.3093e-04\n",
      "Epoch 73/100\n",
      "1958/1958 [==============================] - 1s 451us/sample - loss: 8.1261e-04\n",
      "Epoch 74/100\n",
      "1958/1958 [==============================] - 1s 437us/sample - loss: 7.2246e-04\n",
      "Epoch 75/100\n",
      "1958/1958 [==============================] - 1s 442us/sample - loss: 7.1734e-04\n",
      "Epoch 76/100\n",
      "1958/1958 [==============================] - 1s 438us/sample - loss: 8.1610e-04\n",
      "Epoch 77/100\n",
      "1958/1958 [==============================] - 1s 452us/sample - loss: 7.1694e-04\n",
      "Epoch 78/100\n",
      "1958/1958 [==============================] - 1s 434us/sample - loss: 7.7547e-04\n",
      "Epoch 79/100\n",
      "1958/1958 [==============================] - 1s 440us/sample - loss: 8.3391e-04\n",
      "Epoch 80/100\n",
      "1958/1958 [==============================] - 1s 438us/sample - loss: 8.3361e-04\n",
      "Epoch 81/100\n",
      "1958/1958 [==============================] - 1s 435us/sample - loss: 8.3700e-04\n",
      "Epoch 82/100\n",
      "1958/1958 [==============================] - 1s 434us/sample - loss: 7.9927e-04\n",
      "Epoch 83/100\n",
      "1958/1958 [==============================] - 1s 438us/sample - loss: 7.7333e-04\n",
      "Epoch 84/100\n",
      "1958/1958 [==============================] - 1s 456us/sample - loss: 7.2629e-04\n",
      "Epoch 85/100\n",
      "1958/1958 [==============================] - 1s 446us/sample - loss: 6.4993e-04\n",
      "Epoch 86/100\n",
      "1958/1958 [==============================] - 1s 455us/sample - loss: 8.1478e-04\n",
      "Epoch 87/100\n",
      "1958/1958 [==============================] - 1s 445us/sample - loss: 8.0472e-04\n",
      "Epoch 88/100\n",
      "1958/1958 [==============================] - 1s 448us/sample - loss: 7.8406e-04\n",
      "Epoch 89/100\n",
      "1958/1958 [==============================] - 1s 443us/sample - loss: 7.7884e-04\n",
      "Epoch 90/100\n",
      "1958/1958 [==============================] - 1s 448us/sample - loss: 7.5049e-04\n",
      "Epoch 91/100\n",
      "1958/1958 [==============================] - 1s 441us/sample - loss: 8.7082e-04\n",
      "Epoch 92/100\n",
      "1958/1958 [==============================] - 1s 443us/sample - loss: 6.5185e-04\n",
      "Epoch 93/100\n",
      "1958/1958 [==============================] - 1s 438us/sample - loss: 7.3803e-04\n",
      "Epoch 94/100\n",
      "1958/1958 [==============================] - 1s 439us/sample - loss: 8.5254e-04\n",
      "Epoch 95/100\n",
      "1958/1958 [==============================] - 1s 433us/sample - loss: 8.3425e-04\n",
      "Epoch 96/100\n",
      "1958/1958 [==============================] - 1s 450us/sample - loss: 7.0420e-04\n",
      "Epoch 97/100\n",
      "1958/1958 [==============================] - 1s 443us/sample - loss: 7.2881e-04\n",
      "Epoch 98/100\n",
      "1958/1958 [==============================] - 1s 445us/sample - loss: 7.1900e-04\n",
      "Epoch 99/100\n",
      "1958/1958 [==============================] - 1s 443us/sample - loss: 7.6515e-04\n",
      "Epoch 100/100\n",
      "1958/1958 [==============================] - 1s 439us/sample - loss: 8.4446e-04\n"
     ]
    },
    {
     "data": {
      "text/plain": [
       "<tensorflow.python.keras.callbacks.History at 0x21bd05ed6c8>"
      ]
     },
     "execution_count": 16,
     "metadata": {},
     "output_type": "execute_result"
    }
   ],
   "source": [
    "model.fit(X_train, y_train, epochs=100, batch_size=32)"
   ]
  },
  {
   "cell_type": "markdown",
   "metadata": {},
   "source": [
    "## Testing the Model"
   ]
  },
  {
   "cell_type": "markdown",
   "metadata": {},
   "source": [
    "### Get Predicted Values"
   ]
  },
  {
   "cell_type": "markdown",
   "metadata": {},
   "source": [
    "Need to use predict in a for loop, where it takes the previous wl days and predicts the next day, then shifts along and predicts the next day where the 60th input entry is the previous prediction.\n",
    "\n",
    "PREDICTIONS CANNOT BE BASED ON TEST DATA - Unlike Fillipos and that Udemy course"
   ]
  },
  {
   "cell_type": "code",
   "execution_count": 17,
   "metadata": {},
   "outputs": [],
   "source": [
    "inputs = sc.transform(train[-wl:])\n",
    "preds = np.array([])\n",
    "for i in range(len(test)):\n",
    "    # Make and store prediction:\n",
    "    X_test = np.reshape(inputs, (1, inputs.shape[0], inputs.shape[1]))\n",
    "    prediction = model.predict(X_test)\n",
    "    preds = np.append(preds, prediction)\n",
    "    # update inputs:\n",
    "    inputs = np.append(inputs, prediction)\n",
    "    inputs = inputs[1:].reshape(-1,1)\n",
    "preds = sc.inverse_transform(preds.reshape(-1,1))"
   ]
  },
  {
   "cell_type": "markdown",
   "metadata": {},
   "source": [
    "### Plot predicted values versus expected values"
   ]
  },
  {
   "cell_type": "code",
   "execution_count": 18,
   "metadata": {},
   "outputs": [
    {
     "data": {
      "image/png": "[encoded data removed]",
      "text/plain": [
       "<Figure size 432x288 with 1 Axes>"
      ]
     },
     "metadata": {
      "needs_background": "light"
     },
     "output_type": "display_data"
    }
   ],
   "source": [
    "plt.plot(test, color = 'red', label = 'Real BTC Price')\n",
    "plt.plot(preds, color = 'blue', label = 'Predicted BTC Price')\n",
    "plt.title('BTC Price Prediction')\n",
    "plt.xlabel('Time')\n",
    "plt.ylabel('BTC Price (USD)')\n",
    "plt.legend()\n",
    "plt.show()"
   ]
  },
  {
   "cell_type": "code",
   "execution_count": null,
   "metadata": {},
   "outputs": [],
   "source": []
  }
 ],
 "metadata": {
  "kernelspec": {
   "display_name": "Python 3",
   "language": "python",
   "name": "python3"
  },
  "language_info": {
   "codemirror_mode": {
    "name": "ipython",
    "version": 3
   },
   "file_extension": ".py",
   "mimetype": "text/x-python",
   "name": "python",
   "nbconvert_exporter": "python",
   "pygments_lexer": "ipython3",
   "version": "3.7.4"
  }
 },
 "nbformat": 4,
 "nbformat_minor": 4
}
