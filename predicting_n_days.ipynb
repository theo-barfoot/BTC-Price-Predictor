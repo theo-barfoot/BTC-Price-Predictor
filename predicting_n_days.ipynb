{
 "cells": [
  {
   "cell_type": "markdown",
   "metadata": {},
   "source": [
    "Right, this time, instead of predicting one day at a time and then only being able to predict multiple days into the future. We are going to predict n days at a time."
   ]
  },
  {
   "cell_type": "markdown",
   "metadata": {},
   "source": [
    "## Data Preprecessing"
   ]
  },
  {
   "cell_type": "code",
   "execution_count": 1,
   "metadata": {},
   "outputs": [],
   "source": [
    "import numpy as np\n",
    "import matplotlib.pyplot as plt\n",
    "import pandas as pd"
   ]
  },
  {
   "cell_type": "code",
   "execution_count": 2,
   "metadata": {},
   "outputs": [],
   "source": [
    "win_len = 100  # how many days the model uses to predict the next n days\n",
    "pred_len = 100 # How many days to predict"
   ]
  },
  {
   "cell_type": "markdown",
   "metadata": {},
   "source": [
    "### Fetch Latest Data"
   ]
  },
  {
   "cell_type": "code",
   "execution_count": 3,
   "metadata": {},
   "outputs": [],
   "source": [
    "import yfinance as yf"
   ]
  },
  {
   "cell_type": "code",
   "execution_count": 4,
   "metadata": {},
   "outputs": [],
   "source": [
    "msft = yf.Ticker(\"BTC-USD\")\n",
    "btc_usd_hist = msft.history(period=\"max\")"
   ]
  },
  {
   "cell_type": "markdown",
   "metadata": {},
   "source": [
    "### Load and split data"
   ]
  },
  {
   "cell_type": "code",
   "execution_count": 5,
   "metadata": {
    "scrolled": true
   },
   "outputs": [],
   "source": [
    "dataset = btc_usd_hist['Close']\n",
    "data = dataset.values.reshape(-1,1) # get np array version"
   ]
  },
  {
   "cell_type": "code",
   "execution_count": 6,
   "metadata": {},
   "outputs": [],
   "source": [
    "def train_test_split(data, pred_len):\n",
    "    data_train = data[:-pred_len]\n",
    "    data_test = data[-pred_len:]\n",
    "    return data_train, data_test"
   ]
  },
  {
   "cell_type": "code",
   "execution_count": 7,
   "metadata": {},
   "outputs": [
    {
     "name": "stdout",
     "output_type": "stream",
     "text": [
      "Train: 1945 days, Test: 100 days\n"
     ]
    }
   ],
   "source": [
    "train, test = train_test_split(data, pred_len)\n",
    "print('Train: {} days, Test: {} days'.format(len(train), len(test)))"
   ]
  },
  {
   "cell_type": "markdown",
   "metadata": {},
   "source": [
    "### Feature Scaling"
   ]
  },
  {
   "cell_type": "code",
   "execution_count": 8,
   "metadata": {},
   "outputs": [],
   "source": [
    "from sklearn.preprocessing import MinMaxScaler"
   ]
  },
  {
   "cell_type": "code",
   "execution_count": 9,
   "metadata": {},
   "outputs": [],
   "source": [
    "sc = MinMaxScaler(feature_range=(0,1))\n",
    "train_scaled = sc.fit_transform(train)"
   ]
  },
  {
   "cell_type": "markdown",
   "metadata": {},
   "source": [
    "### Windowing Data"
   ]
  },
  {
   "cell_type": "code",
   "execution_count": 10,
   "metadata": {},
   "outputs": [
    {
     "data": {
      "text/plain": [
       "(1945, 1)"
      ]
     },
     "execution_count": 10,
     "metadata": {},
     "output_type": "execute_result"
    }
   ],
   "source": [
    "train.shape"
   ]
  },
  {
   "cell_type": "code",
   "execution_count": 11,
   "metadata": {},
   "outputs": [],
   "source": [
    "X_train = np.array([train_scaled[i-win_len:i, 0] for i in range(win_len+pred_len, len(train))])"
   ]
  },
  {
   "cell_type": "code",
   "execution_count": 12,
   "metadata": {},
   "outputs": [],
   "source": [
    "y_train = np.array([train_scaled[i:i+pred_len, 0] for i in range(win_len, len(train)-pred_len)])"
   ]
  },
  {
   "cell_type": "code",
   "execution_count": 13,
   "metadata": {},
   "outputs": [],
   "source": [
    "X_train = np.reshape(X_train, (X_train.shape[0], X_train.shape[1], 1))"
   ]
  },
  {
   "cell_type": "markdown",
   "metadata": {},
   "source": [
    "## Building the Model"
   ]
  },
  {
   "cell_type": "code",
   "execution_count": 14,
   "metadata": {},
   "outputs": [],
   "source": [
    "from tensorflow.keras.models import Sequential\n",
    "from tensorflow.keras.layers import Activation, Dense, Dropout, LSTM"
   ]
  },
  {
   "cell_type": "code",
   "execution_count": 15,
   "metadata": {},
   "outputs": [],
   "source": [
    "def build_lstm_model(data, num_neurons = 50, activ_func='linear', \n",
    "                     dropout=0.2, loss='mse', optimizer='adam'):\n",
    "    model = Sequential()\n",
    "    # layer 1\n",
    "    model.add(LSTM(units=num_neurons, return_sequences=True, input_shape=(data.shape[1], 1)))\n",
    "    model.add(Dropout(dropout))\n",
    "    # layer 2\n",
    "    model.add(LSTM(units=num_neurons, return_sequences=True))\n",
    "    model.add(Dropout(dropout))\n",
    "    # layer 3\n",
    "    model.add(LSTM(units=num_neurons, return_sequences=True))\n",
    "    model.add(Dropout(dropout))\n",
    "    # layer 4\n",
    "    model.add(LSTM(units=num_neurons))\n",
    "    model.add(Dropout(dropout))\n",
    "    # ouput layer\n",
    "    model.add(Dense(units=pred_len))\n",
    "    # model.add(Activation(activ_func))\n",
    "    model.compile(optimizer=optimizer, loss=loss)\n",
    "    return model"
   ]
  },
  {
   "cell_type": "code",
   "execution_count": 16,
   "metadata": {},
   "outputs": [],
   "source": [
    "model = build_lstm_model(X_train)"
   ]
  },
  {
   "cell_type": "markdown",
   "metadata": {},
   "source": [
    "## Training the Model"
   ]
  },
  {
   "cell_type": "code",
   "execution_count": 17,
   "metadata": {
    "scrolled": true
   },
   "outputs": [
    {
     "name": "stdout",
     "output_type": "stream",
     "text": [
      "Train on 1745 samples\n",
      "Epoch 1/100\n",
      "1745/1745 [==============================] - 9s 5ms/sample - loss: 0.0294\n",
      "Epoch 2/100\n",
      "1745/1745 [==============================] - 1s 515us/sample - loss: 0.0089\n",
      "Epoch 3/100\n",
      "1745/1745 [==============================] - 1s 517us/sample - loss: 0.0074\n",
      "Epoch 4/100\n",
      "1745/1745 [==============================] - 1s 510us/sample - loss: 0.0065\n",
      "Epoch 5/100\n",
      "1745/1745 [==============================] - 1s 509us/sample - loss: 0.0055\n",
      "Epoch 6/100\n",
      "1745/1745 [==============================] - 1s 512us/sample - loss: 0.0043\n",
      "Epoch 7/100\n",
      "1745/1745 [==============================] - 1s 509us/sample - loss: 0.0038\n",
      "Epoch 8/100\n",
      "1745/1745 [==============================] - 1s 512us/sample - loss: 0.0037\n",
      "Epoch 9/100\n",
      "1745/1745 [==============================] - 1s 510us/sample - loss: 0.0034\n",
      "Epoch 10/100\n",
      "1745/1745 [==============================] - 1s 515us/sample - loss: 0.0032\n",
      "Epoch 11/100\n",
      "1745/1745 [==============================] - 1s 510us/sample - loss: 0.0031s - los\n",
      "Epoch 12/100\n",
      "1745/1745 [==============================] - 1s 507us/sample - loss: 0.0026\n",
      "Epoch 13/100\n",
      "1745/1745 [==============================] - 1s 512us/sample - loss: 0.0025\n",
      "Epoch 14/100\n",
      "1745/1745 [==============================] - 1s 513us/sample - loss: 0.0026\n",
      "Epoch 15/100\n",
      "1745/1745 [==============================] - 1s 514us/sample - loss: 0.0025\n",
      "Epoch 16/100\n",
      "1745/1745 [==============================] - 1s 510us/sample - loss: 0.0024\n",
      "Epoch 17/100\n",
      "1745/1745 [==============================] - 1s 513us/sample - loss: 0.0024\n",
      "Epoch 18/100\n",
      "1745/1745 [==============================] - 1s 508us/sample - loss: 0.0023\n",
      "Epoch 19/100\n",
      "1745/1745 [==============================] - 1s 510us/sample - loss: 0.0021\n",
      "Epoch 20/100\n",
      "1745/1745 [==============================] - 1s 512us/sample - loss: 0.0022\n",
      "Epoch 21/100\n",
      "1745/1745 [==============================] - 1s 510us/sample - loss: 0.0022\n",
      "Epoch 22/100\n",
      "1745/1745 [==============================] - 1s 513us/sample - loss: 0.0020\n",
      "Epoch 23/100\n",
      "1745/1745 [==============================] - 1s 510us/sample - loss: 0.0021\n",
      "Epoch 24/100\n",
      "1745/1745 [==============================] - 1s 510us/sample - loss: 0.0023\n",
      "Epoch 25/100\n",
      "1745/1745 [==============================] - 1s 514us/sample - loss: 0.0022s - loss:\n",
      "Epoch 26/100\n",
      "1745/1745 [==============================] - 1s 517us/sample - loss: 0.0020\n",
      "Epoch 27/100\n",
      "1745/1745 [==============================] - 1s 517us/sample - loss: 0.0019\n",
      "Epoch 28/100\n",
      "1745/1745 [==============================] - 1s 512us/sample - loss: 0.0018\n",
      "Epoch 29/100\n",
      "1745/1745 [==============================] - 1s 514us/sample - loss: 0.0018\n",
      "Epoch 30/100\n",
      "1745/1745 [==============================] - 1s 510us/sample - loss: 0.0018\n",
      "Epoch 31/100\n",
      "1745/1745 [==============================] - 1s 516us/sample - loss: 0.0016\n",
      "Epoch 32/100\n",
      "1745/1745 [==============================] - 1s 510us/sample - loss: 0.0017s - loss: 0\n",
      "Epoch 33/100\n",
      "1745/1745 [==============================] - 1s 510us/sample - loss: 0.0019\n",
      "Epoch 34/100\n",
      "1745/1745 [==============================] - 1s 508us/sample - loss: 0.0018\n",
      "Epoch 35/100\n",
      "1745/1745 [==============================] - 1s 510us/sample - loss: 0.0017\n",
      "Epoch 36/100\n",
      "1745/1745 [==============================] - 1s 510us/sample - loss: 0.0017\n",
      "Epoch 37/100\n",
      "1745/1745 [==============================] - 1s 512us/sample - loss: 0.0016\n",
      "Epoch 38/100\n",
      "1745/1745 [==============================] - 1s 512us/sample - loss: 0.0016s - loss: 0.0\n",
      "Epoch 39/100\n",
      "1745/1745 [==============================] - 1s 513us/sample - loss: 0.0016s - loss: \n",
      "Epoch 40/100\n",
      "1745/1745 [==============================] - 1s 514us/sample - loss: 0.0016\n",
      "Epoch 41/100\n",
      "1745/1745 [==============================] - 1s 513us/sample - loss: 0.0016\n",
      "Epoch 42/100\n",
      "1745/1745 [==============================] - 1s 510us/sample - loss: 0.0015\n",
      "Epoch 43/100\n",
      "1745/1745 [==============================] - 1s 508us/sample - loss: 0.0014\n",
      "Epoch 44/100\n",
      "1745/1745 [==============================] - 1s 509us/sample - loss: 0.0015\n",
      "Epoch 45/100\n",
      "1745/1745 [==============================] - 1s 510us/sample - loss: 0.0016\n",
      "Epoch 46/100\n",
      "1745/1745 [==============================] - 1s 514us/sample - loss: 0.0016\n",
      "Epoch 47/100\n",
      "1745/1745 [==============================] - 1s 510us/sample - loss: 0.0014\n",
      "Epoch 48/100\n",
      "1745/1745 [==============================] - 1s 512us/sample - loss: 0.0015\n",
      "Epoch 49/100\n",
      "1745/1745 [==============================] - 1s 508us/sample - loss: 0.0014\n",
      "Epoch 50/100\n",
      "1745/1745 [==============================] - 1s 504us/sample - loss: 0.0014\n",
      "Epoch 51/100\n",
      "1745/1745 [==============================] - 1s 508us/sample - loss: 0.0014\n",
      "Epoch 52/100\n",
      "1745/1745 [==============================] - 1s 507us/sample - loss: 0.0014\n",
      "Epoch 53/100\n",
      "1745/1745 [==============================] - 1s 512us/sample - loss: 0.0013\n",
      "Epoch 54/100\n",
      "1745/1745 [==============================] - 1s 514us/sample - loss: 0.0013\n",
      "Epoch 55/100\n",
      "1745/1745 [==============================] - ETA: 0s - loss: 0.001 - 1s 514us/sample - loss: 0.0013\n",
      "Epoch 56/100\n",
      "1745/1745 [==============================] - 1s 566us/sample - loss: 0.0013\n",
      "Epoch 57/100\n",
      "1745/1745 [==============================] - 1s 522us/sample - loss: 0.0015\n",
      "Epoch 58/100\n",
      "1745/1745 [==============================] - 1s 524us/sample - loss: 0.0014\n",
      "Epoch 59/100\n",
      "1745/1745 [==============================] - 1s 545us/sample - loss: 0.0013\n",
      "Epoch 60/100\n",
      "1745/1745 [==============================] - 1s 525us/sample - loss: 0.0013\n",
      "Epoch 61/100\n",
      "1745/1745 [==============================] - 1s 527us/sample - loss: 0.0013\n",
      "Epoch 62/100\n",
      "1745/1745 [==============================] - 1s 516us/sample - loss: 0.0013\n",
      "Epoch 63/100\n",
      "1745/1745 [==============================] - 1s 519us/sample - loss: 0.0012\n",
      "Epoch 64/100\n",
      "1745/1745 [==============================] - 1s 514us/sample - loss: 0.0013\n",
      "Epoch 65/100\n",
      "1745/1745 [==============================] - 1s 522us/sample - loss: 0.0012\n",
      "Epoch 66/100\n",
      "1745/1745 [==============================] - 1s 520us/sample - loss: 0.0013\n",
      "Epoch 67/100\n",
      "1745/1745 [==============================] - 1s 520us/sample - loss: 0.0013\n",
      "Epoch 68/100\n",
      "1745/1745 [==============================] - 1s 513us/sample - loss: 0.0012\n",
      "Epoch 69/100\n",
      "1745/1745 [==============================] - 1s 512us/sample - loss: 0.0012\n",
      "Epoch 70/100\n",
      "1745/1745 [==============================] - 1s 518us/sample - loss: 0.0012\n",
      "Epoch 71/100\n",
      "1745/1745 [==============================] - 1s 517us/sample - loss: 0.0014\n",
      "Epoch 72/100\n",
      "1745/1745 [==============================] - 1s 513us/sample - loss: 0.0012\n",
      "Epoch 73/100\n",
      "1745/1745 [==============================] - 1s 508us/sample - loss: 0.0012\n",
      "Epoch 74/100\n",
      "1745/1745 [==============================] - 1s 515us/sample - loss: 0.0012\n",
      "Epoch 75/100\n",
      "1745/1745 [==============================] - 1s 515us/sample - loss: 0.0012\n",
      "Epoch 76/100\n",
      "1745/1745 [==============================] - 1s 518us/sample - loss: 0.0013\n",
      "Epoch 77/100\n",
      "1745/1745 [==============================] - 1s 516us/sample - loss: 0.0013\n",
      "Epoch 78/100\n",
      "1745/1745 [==============================] - 1s 517us/sample - loss: 0.0012\n",
      "Epoch 79/100\n",
      "1745/1745 [==============================] - 1s 517us/sample - loss: 0.0012\n",
      "Epoch 80/100\n",
      "1745/1745 [==============================] - 1s 508us/sample - loss: 0.0012\n",
      "Epoch 81/100\n",
      "1745/1745 [==============================] - 1s 521us/sample - loss: 0.0011\n",
      "Epoch 82/100\n",
      "1745/1745 [==============================] - 1s 518us/sample - loss: 0.0012\n",
      "Epoch 83/100\n",
      "1745/1745 [==============================] - 1s 513us/sample - loss: 0.0012\n",
      "Epoch 84/100\n",
      "1745/1745 [==============================] - 1s 516us/sample - loss: 0.0012\n",
      "Epoch 85/100\n",
      "1745/1745 [==============================] - 1s 516us/sample - loss: 0.0011\n",
      "Epoch 86/100\n",
      "1745/1745 [==============================] - 1s 516us/sample - loss: 0.0011\n",
      "Epoch 87/100\n",
      "1745/1745 [==============================] - 1s 518us/sample - loss: 0.0011\n",
      "Epoch 88/100\n",
      "1745/1745 [==============================] - 1s 518us/sample - loss: 0.0012\n",
      "Epoch 89/100\n",
      "1745/1745 [==============================] - 1s 516us/sample - loss: 0.0012\n",
      "Epoch 90/100\n",
      "1745/1745 [==============================] - 1s 522us/sample - loss: 0.0011\n",
      "Epoch 91/100\n",
      "1745/1745 [==============================] - 1s 527us/sample - loss: 0.0011\n",
      "Epoch 92/100\n"
     ]
    },
    {
     "name": "stdout",
     "output_type": "stream",
     "text": [
      "1745/1745 [==============================] - 1s 520us/sample - loss: 0.0011\n",
      "Epoch 93/100\n",
      "1745/1745 [==============================] - 1s 512us/sample - loss: 0.0011\n",
      "Epoch 94/100\n",
      "1745/1745 [==============================] - 1s 512us/sample - loss: 0.0012\n",
      "Epoch 95/100\n",
      "1745/1745 [==============================] - 1s 504us/sample - loss: 0.0012\n",
      "Epoch 96/100\n",
      "1745/1745 [==============================] - 1s 510us/sample - loss: 0.0012\n",
      "Epoch 97/100\n",
      "1745/1745 [==============================] - 1s 517us/sample - loss: 0.0011\n",
      "Epoch 98/100\n",
      "1745/1745 [==============================] - 1s 517us/sample - loss: 0.0011\n",
      "Epoch 99/100\n",
      "1745/1745 [==============================] - 1s 508us/sample - loss: 0.0011\n",
      "Epoch 100/100\n",
      "1745/1745 [==============================] - 1s 509us/sample - loss: 0.0011\n"
     ]
    },
    {
     "data": {
      "text/plain": [
       "<tensorflow.python.keras.callbacks.History at 0x1b35226c348>"
      ]
     },
     "execution_count": 17,
     "metadata": {},
     "output_type": "execute_result"
    }
   ],
   "source": [
    "model.fit(X_train, y_train, epochs=100, batch_size=32)"
   ]
  },
  {
   "cell_type": "markdown",
   "metadata": {},
   "source": [
    "## Testing the Model"
   ]
  },
  {
   "cell_type": "markdown",
   "metadata": {},
   "source": [
    "### Get Predicted Values"
   ]
  },
  {
   "cell_type": "code",
   "execution_count": 18,
   "metadata": {},
   "outputs": [],
   "source": [
    "inputs = sc.transform(train[-win_len:])"
   ]
  },
  {
   "cell_type": "code",
   "execution_count": 19,
   "metadata": {},
   "outputs": [],
   "source": [
    "X_test = np.reshape(inputs, (1, inputs.shape[0], inputs.shape[1]))"
   ]
  },
  {
   "cell_type": "code",
   "execution_count": 20,
   "metadata": {},
   "outputs": [],
   "source": [
    "prediction = model.predict(X_test)"
   ]
  },
  {
   "cell_type": "code",
   "execution_count": 21,
   "metadata": {},
   "outputs": [],
   "source": [
    "preds = sc.inverse_transform(prediction.reshape(-1,1))"
   ]
  },
  {
   "cell_type": "markdown",
   "metadata": {},
   "source": [
    "### Plot predicted values versus expected values"
   ]
  },
  {
   "cell_type": "code",
   "execution_count": 22,
   "metadata": {},
   "outputs": [
    {
     "data": {
      "image/png": "[encoded data removed]",
      "text/plain": [
       "<Figure size 432x288 with 1 Axes>"
      ]
     },
     "metadata": {
      "needs_background": "light"
     },
     "output_type": "display_data"
    }
   ],
   "source": [
    "plt.plot(test, color = 'red', label = 'Real BTC Price')\n",
    "plt.plot(preds, color = 'blue', label = 'Predicted BTC Price')\n",
    "plt.title('BTC Price Prediction')\n",
    "plt.xlabel('Time')\n",
    "plt.ylabel('BTC Price (USD)')\n",
    "plt.legend()\n",
    "plt.show()"
   ]
  },
  {
   "cell_type": "markdown",
   "metadata": {},
   "source": [
    "## Prediction the future"
   ]
  },
  {
   "cell_type": "code",
   "execution_count": 18,
   "metadata": {},
   "outputs": [],
   "source": [
    "inputs = sc.transform(data[-win_len:])"
   ]
  },
  {
   "cell_type": "code",
   "execution_count": 19,
   "metadata": {},
   "outputs": [],
   "source": [
    "inputs = np.reshape(inputs, (1, inputs.shape[0], inputs.shape[1]))"
   ]
  },
  {
   "cell_type": "code",
   "execution_count": 20,
   "metadata": {},
   "outputs": [],
   "source": [
    "prediction = model.predict(inputs)"
   ]
  },
  {
   "cell_type": "code",
   "execution_count": 21,
   "metadata": {},
   "outputs": [],
   "source": [
    "preds = sc.inverse_transform(prediction.reshape(-1,1))"
   ]
  },
  {
   "cell_type": "code",
   "execution_count": 23,
   "metadata": {},
   "outputs": [
    {
     "data": {
      "image/png": "[encoded data removed]",
      "text/plain": [
       "<Figure size 432x288 with 1 Axes>"
      ]
     },
     "metadata": {
      "needs_background": "light"
     },
     "output_type": "display_data"
    }
   ],
   "source": [
    "plt.plot(preds, color = 'blue', label = 'Predicted BTC Price')\n",
    "plt.title('BTC Price Prediction')\n",
    "plt.xlabel('Time')\n",
    "plt.ylabel('BTC Price (USD)')\n",
    "plt.legend()\n",
    "plt.show()"
   ]
  },
  {
   "cell_type": "code",
   "execution_count": null,
   "metadata": {},
   "outputs": [],
   "source": []
  }
 ],
 "metadata": {
  "kernelspec": {
   "display_name": "Python 3",
   "language": "python",
   "name": "python3"
  },
  "language_info": {
   "codemirror_mode": {
    "name": "ipython",
    "version": 3
   },
   "file_extension": ".py",
   "mimetype": "text/x-python",
   "name": "python",
   "nbconvert_exporter": "python",
   "pygments_lexer": "ipython3",
   "version": "3.7.4"
  }
 },
 "nbformat": 4,
 "nbformat_minor": 4
}
