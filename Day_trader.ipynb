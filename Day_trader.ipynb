{
 "cells": [
  {
   "cell_type": "markdown",
   "metadata": {},
   "source": [
    "Train a DL model to predict whether the BTC price will go up or down from open to close each day. \n",
    "\n",
    "Then create a trading simulator to see how much money we can make."
   ]
  },
  {
   "cell_type": "markdown",
   "metadata": {},
   "source": [
    "# LSTM Model"
   ]
  },
  {
   "cell_type": "markdown",
   "metadata": {},
   "source": [
    "## Data Pre-processing"
   ]
  },
  {
   "cell_type": "markdown",
   "metadata": {},
   "source": [
    "### Get Data"
   ]
  },
  {
   "cell_type": "code",
   "execution_count": 1,
   "metadata": {},
   "outputs": [],
   "source": [
    "import yfinance as yf\n",
    "msft = yf.Ticker(\"BTC-USD\")\n",
    "btc_usd_hist = msft.history(period=\"max\")"
   ]
  },
  {
   "cell_type": "code",
   "execution_count": 2,
   "metadata": {},
   "outputs": [],
   "source": [
    "dataset = btc_usd_hist[['Open','High','Low','Close','Volume']]"
   ]
  },
  {
   "cell_type": "code",
   "execution_count": 4,
   "metadata": {},
   "outputs": [],
   "source": [
    "data = dataset.values # get np array version"
   ]
  },
  {
   "cell_type": "code",
   "execution_count": 5,
   "metadata": {},
   "outputs": [
    {
     "data": {
      "text/plain": [
       "(2047, 5)"
      ]
     },
     "execution_count": 5,
     "metadata": {},
     "output_type": "execute_result"
    }
   ],
   "source": [
    "data.shape"
   ]
  },
  {
   "cell_type": "markdown",
   "metadata": {},
   "source": [
    "### Scaling Data"
   ]
  },
  {
   "cell_type": "markdown",
   "metadata": {},
   "source": [
    "Apply scaling before splitting data, as although price hit an ATH a while ago, the volume is still increasing."
   ]
  },
  {
   "cell_type": "code",
   "execution_count": 6,
   "metadata": {},
   "outputs": [],
   "source": [
    "from sklearn.preprocessing import MinMaxScaler"
   ]
  },
  {
   "cell_type": "code",
   "execution_count": 7,
   "metadata": {},
   "outputs": [],
   "source": [
    "sc = MinMaxScaler(feature_range=(0,1))\n",
    "data_scaled = sc.fit_transform(data)"
   ]
  },
  {
   "cell_type": "markdown",
   "metadata": {},
   "source": [
    "### Create inputs and outputs"
   ]
  },
  {
   "cell_type": "code",
   "execution_count": 9,
   "metadata": {},
   "outputs": [],
   "source": [
    "import numpy as np"
   ]
  },
  {
   "cell_type": "code",
   "execution_count": 8,
   "metadata": {},
   "outputs": [],
   "source": [
    "wl = 100"
   ]
  },
  {
   "cell_type": "code",
   "execution_count": 28,
   "metadata": {},
   "outputs": [],
   "source": [
    "X = np.array([data_scaled[i-wl:i, :] for i in range(wl, len(data_scaled))])"
   ]
  },
  {
   "cell_type": "code",
   "execution_count": 29,
   "metadata": {},
   "outputs": [],
   "source": [
    "y = []\n",
    "for i in range(wl, len(data)):\n",
    "    diff = data[i, 3] - data[i, 0]  # close - open\n",
    "    y.append(1 if diff > 0 else 0)\n",
    "y = np.array(y)"
   ]
  },
  {
   "cell_type": "code",
   "execution_count": 34,
   "metadata": {},
   "outputs": [
    {
     "name": "stdout",
     "output_type": "stream",
     "text": [
      "Days increased: 1060\n",
      "Days Decreased: 887\n"
     ]
    }
   ],
   "source": [
    "print('Days increased:', sum(y))\n",
    "print('Days Decreased:', len(y) - sum(y))"
   ]
  },
  {
   "cell_type": "code",
   "execution_count": 32,
   "metadata": {},
   "outputs": [
    {
     "data": {
      "text/plain": [
       "((1947, 100, 5), (1947,))"
      ]
     },
     "execution_count": 32,
     "metadata": {},
     "output_type": "execute_result"
    }
   ],
   "source": [
    "X.shape, y.shape"
   ]
  },
  {
   "cell_type": "markdown",
   "metadata": {},
   "source": [
    "For the trading simulator we want the full information of the next day, not just whether it went up or down."
   ]
  },
  {
   "cell_type": "code",
   "execution_count": 47,
   "metadata": {},
   "outputs": [],
   "source": [
    "y_full = np.array([data[i, :] for i in range(wl, len(data))])"
   ]
  },
  {
   "cell_type": "markdown",
   "metadata": {},
   "source": [
    "### Split Data"
   ]
  },
  {
   "cell_type": "markdown",
   "metadata": {},
   "source": [
    "Get training and testing dataset for model development and hold-out dataset for trading simlation at end"
   ]
  },
  {
   "cell_type": "code",
   "execution_count": 18,
   "metadata": {},
   "outputs": [],
   "source": [
    "len_holdout=100"
   ]
  },
  {
   "cell_type": "code",
   "execution_count": 50,
   "metadata": {},
   "outputs": [],
   "source": [
    "X_train_and_test, X_holdout = X[:-len_holdout], X[-len_holdout:]\n",
    "y_train_and_test, y_holdout = y[:-len_holdout], y_full[-len_holdout:]"
   ]
  },
  {
   "cell_type": "code",
   "execution_count": 22,
   "metadata": {},
   "outputs": [],
   "source": [
    "from sklearn.model_selection import train_test_split"
   ]
  },
  {
   "cell_type": "code",
   "execution_count": 24,
   "metadata": {},
   "outputs": [],
   "source": [
    "X_train, X_test, y_train, y_test = train_test_split(X_train_and_test, y_train_and_test, test_size=0.25, random_state=0)"
   ]
  },
  {
   "cell_type": "code",
   "execution_count": 33,
   "metadata": {},
   "outputs": [
    {
     "data": {
      "text/plain": [
       "((1385, 100, 5), (462, 100, 5), (1385,), (462,))"
      ]
     },
     "execution_count": 33,
     "metadata": {},
     "output_type": "execute_result"
    }
   ],
   "source": [
    "X_train.shape, X_test.shape, y_train.shape, y_test.shape"
   ]
  },
  {
   "cell_type": "code",
   "execution_count": null,
   "metadata": {},
   "outputs": [],
   "source": [
    "y_train.shape"
   ]
  },
  {
   "cell_type": "markdown",
   "metadata": {},
   "source": [
    "## Model Building"
   ]
  },
  {
   "cell_type": "code",
   "execution_count": 35,
   "metadata": {},
   "outputs": [],
   "source": [
    "from tensorflow.keras.models import Sequential\n",
    "from tensorflow.keras.layers import Activation, Dense, Dropout, LSTM"
   ]
  },
  {
   "cell_type": "code",
   "execution_count": 36,
   "metadata": {},
   "outputs": [],
   "source": [
    "def build_lstm_model(data, dropout=0.2, loss='binary_crossentropy', optimizer='adam'):\n",
    "    model = Sequential()\n",
    "    # layer \n",
    "    model.add(LSTM(units=64, return_sequences=True, input_shape=(data.shape[1], data.shape[2])))\n",
    "    model.add(Dropout(dropout))\n",
    "    model.add(Activation('relu'))\n",
    "    # think about: recurrent_activation\n",
    "\n",
    "    # layer \n",
    "    model.add(LSTM(units=32))\n",
    "    model.add(Dropout(dropout))\n",
    "    model.add(Activation('relu'))\n",
    "    # ouput layer\n",
    "    model.add(Dense(units=1))\n",
    "    model.add(Activation('sigmoid'))\n",
    "    model.compile(optimizer=optimizer, loss=loss, metrics=['accuracy'])\n",
    "    return model"
   ]
  },
  {
   "cell_type": "code",
   "execution_count": 37,
   "metadata": {},
   "outputs": [],
   "source": [
    "model = build_lstm_model(X_train)"
   ]
  },
  {
   "cell_type": "markdown",
   "metadata": {},
   "source": [
    "## Model Training"
   ]
  },
  {
   "cell_type": "code",
   "execution_count": 38,
   "metadata": {
    "scrolled": true
   },
   "outputs": [
    {
     "name": "stdout",
     "output_type": "stream",
     "text": [
      "Train on 1385 samples\n",
      "Epoch 1/100\n",
      "1385/1385 [==============================] - 5s 4ms/sample - loss: 0.6905 - accuracy: 0.5466\n",
      "Epoch 2/100\n",
      "1385/1385 [==============================] - 0s 326us/sample - loss: 0.6887 - accuracy: 0.5487\n",
      "Epoch 3/100\n",
      "1385/1385 [==============================] - 0s 327us/sample - loss: 0.6888 - accuracy: 0.5480\n",
      "Epoch 4/100\n",
      "1385/1385 [==============================] - 0s 330us/sample - loss: 0.6891 - accuracy: 0.5509\n",
      "Epoch 5/100\n",
      "1385/1385 [==============================] - 0s 323us/sample - loss: 0.6876 - accuracy: 0.5466\n",
      "Epoch 6/100\n",
      "1385/1385 [==============================] - 0s 325us/sample - loss: 0.6884 - accuracy: 0.5473\n",
      "Epoch 7/100\n",
      "1385/1385 [==============================] - 0s 328us/sample - loss: 0.6885 - accuracy: 0.5523\n",
      "Epoch 8/100\n",
      "1385/1385 [==============================] - 0s 326us/sample - loss: 0.6876 - accuracy: 0.5487\n",
      "Epoch 9/100\n",
      "1385/1385 [==============================] - 0s 330us/sample - loss: 0.6876 - accuracy: 0.5523\n",
      "Epoch 10/100\n",
      "1385/1385 [==============================] - 0s 328us/sample - loss: 0.6876 - accuracy: 0.5538\n",
      "Epoch 11/100\n",
      "1385/1385 [==============================] - 0s 324us/sample - loss: 0.6876 - accuracy: 0.5581\n",
      "Epoch 12/100\n",
      "1385/1385 [==============================] - 0s 324us/sample - loss: 0.6868 - accuracy: 0.5538\n",
      "Epoch 13/100\n",
      "1385/1385 [==============================] - 0s 341us/sample - loss: 0.6877 - accuracy: 0.5574\n",
      "Epoch 14/100\n",
      "1385/1385 [==============================] - 0s 339us/sample - loss: 0.6871 - accuracy: 0.5545\n",
      "Epoch 15/100\n",
      "1385/1385 [==============================] - 0s 328us/sample - loss: 0.6851 - accuracy: 0.5617\n",
      "Epoch 16/100\n",
      "1385/1385 [==============================] - 0s 321us/sample - loss: 0.6867 - accuracy: 0.5480\n",
      "Epoch 17/100\n",
      "1385/1385 [==============================] - 0s 352us/sample - loss: 0.6865 - accuracy: 0.5574\n",
      "Epoch 18/100\n",
      "1385/1385 [==============================] - 0s 322us/sample - loss: 0.6866 - accuracy: 0.5574\n",
      "Epoch 19/100\n",
      "1385/1385 [==============================] - 0s 324us/sample - loss: 0.6853 - accuracy: 0.5574\n",
      "Epoch 20/100\n",
      "1385/1385 [==============================] - 0s 320us/sample - loss: 0.6879 - accuracy: 0.5509\n",
      "Epoch 21/100\n",
      "1385/1385 [==============================] - 0s 321us/sample - loss: 0.6863 - accuracy: 0.5560\n",
      "Epoch 22/100\n",
      "1385/1385 [==============================] - 0s 319us/sample - loss: 0.6851 - accuracy: 0.5581\n",
      "Epoch 23/100\n",
      "1385/1385 [==============================] - 0s 334us/sample - loss: 0.6867 - accuracy: 0.5581\n",
      "Epoch 24/100\n",
      "1385/1385 [==============================] - 0s 323us/sample - loss: 0.6870 - accuracy: 0.5466\n",
      "Epoch 25/100\n",
      "1385/1385 [==============================] - 0s 319us/sample - loss: 0.6865 - accuracy: 0.5531\n",
      "Epoch 26/100\n",
      "1385/1385 [==============================] - 0s 318us/sample - loss: 0.6858 - accuracy: 0.5596\n",
      "Epoch 27/100\n",
      "1385/1385 [==============================] - 0s 316us/sample - loss: 0.6868 - accuracy: 0.5545\n",
      "Epoch 28/100\n",
      "1385/1385 [==============================] - 0s 321us/sample - loss: 0.6870 - accuracy: 0.5509\n",
      "Epoch 29/100\n",
      "1385/1385 [==============================] - 0s 313us/sample - loss: 0.6866 - accuracy: 0.5639\n",
      "Epoch 30/100\n",
      "1385/1385 [==============================] - 0s 330us/sample - loss: 0.6882 - accuracy: 0.5596\n",
      "Epoch 31/100\n",
      "1385/1385 [==============================] - 0s 333us/sample - loss: 0.6857 - accuracy: 0.5603\n",
      "Epoch 32/100\n",
      "1385/1385 [==============================] - 0s 331us/sample - loss: 0.6861 - accuracy: 0.5610\n",
      "Epoch 33/100\n",
      "1385/1385 [==============================] - 0s 317us/sample - loss: 0.6887 - accuracy: 0.5502\n",
      "Epoch 34/100\n",
      "1385/1385 [==============================] - 0s 313us/sample - loss: 0.6852 - accuracy: 0.5596\n",
      "Epoch 35/100\n",
      "1385/1385 [==============================] - 0s 319us/sample - loss: 0.6875 - accuracy: 0.5458\n",
      "Epoch 36/100\n",
      "1385/1385 [==============================] - 0s 326us/sample - loss: 0.6856 - accuracy: 0.5625\n",
      "Epoch 37/100\n",
      "1385/1385 [==============================] - 0s 324us/sample - loss: 0.6865 - accuracy: 0.5523\n",
      "Epoch 38/100\n",
      "1385/1385 [==============================] - 0s 320us/sample - loss: 0.6863 - accuracy: 0.5603\n",
      "Epoch 39/100\n",
      "1385/1385 [==============================] - 0s 323us/sample - loss: 0.6861 - accuracy: 0.5538\n",
      "Epoch 40/100\n",
      "1385/1385 [==============================] - 0s 315us/sample - loss: 0.6861 - accuracy: 0.5668\n",
      "Epoch 41/100\n",
      "1385/1385 [==============================] - 0s 318us/sample - loss: 0.6870 - accuracy: 0.5523\n",
      "Epoch 42/100\n",
      "1385/1385 [==============================] - 0s 325us/sample - loss: 0.6861 - accuracy: 0.5610\n",
      "Epoch 43/100\n",
      "1385/1385 [==============================] - 0s 317us/sample - loss: 0.6857 - accuracy: 0.5603\n",
      "Epoch 44/100\n",
      "1385/1385 [==============================] - 0s 323us/sample - loss: 0.6862 - accuracy: 0.5596\n",
      "Epoch 45/100\n",
      "1385/1385 [==============================] - 0s 333us/sample - loss: 0.6860 - accuracy: 0.5581\n",
      "Epoch 46/100\n",
      "1385/1385 [==============================] - 0s 320us/sample - loss: 0.6861 - accuracy: 0.5581\n",
      "Epoch 47/100\n",
      "1385/1385 [==============================] - 0s 317us/sample - loss: 0.6885 - accuracy: 0.5509\n",
      "Epoch 48/100\n",
      "1385/1385 [==============================] - 0s 328us/sample - loss: 0.6883 - accuracy: 0.5516\n",
      "Epoch 49/100\n",
      "1385/1385 [==============================] - 0s 320us/sample - loss: 0.6890 - accuracy: 0.5509\n",
      "Epoch 50/100\n",
      "1385/1385 [==============================] - 0s 320us/sample - loss: 0.6879 - accuracy: 0.5516\n",
      "Epoch 51/100\n",
      "1385/1385 [==============================] - 0s 320us/sample - loss: 0.6877 - accuracy: 0.5545\n",
      "Epoch 52/100\n",
      "1385/1385 [==============================] - 0s 320us/sample - loss: 0.6874 - accuracy: 0.5509\n",
      "Epoch 53/100\n",
      "1385/1385 [==============================] - 0s 326us/sample - loss: 0.6878 - accuracy: 0.5502\n",
      "Epoch 54/100\n",
      "1385/1385 [==============================] - 0s 323us/sample - loss: 0.6875 - accuracy: 0.5473\n",
      "Epoch 55/100\n",
      "1385/1385 [==============================] - 0s 326us/sample - loss: 0.6876 - accuracy: 0.5502\n",
      "Epoch 56/100\n",
      "1385/1385 [==============================] - 0s 319us/sample - loss: 0.6875 - accuracy: 0.5502\n",
      "Epoch 57/100\n",
      "1385/1385 [==============================] - 0s 324us/sample - loss: 0.6862 - accuracy: 0.5516\n",
      "Epoch 58/100\n",
      "1385/1385 [==============================] - 0s 323us/sample - loss: 0.6865 - accuracy: 0.5538\n",
      "Epoch 59/100\n",
      "1385/1385 [==============================] - 0s 318us/sample - loss: 0.6859 - accuracy: 0.5603\n",
      "Epoch 60/100\n",
      "1385/1385 [==============================] - 0s 318us/sample - loss: 0.6853 - accuracy: 0.5697\n",
      "Epoch 61/100\n",
      "1385/1385 [==============================] - 0s 328us/sample - loss: 0.6880 - accuracy: 0.5523\n",
      "Epoch 62/100\n",
      "1385/1385 [==============================] - 0s 324us/sample - loss: 0.6864 - accuracy: 0.5545\n",
      "Epoch 63/100\n",
      "1385/1385 [==============================] - 0s 319us/sample - loss: 0.6883 - accuracy: 0.5444\n",
      "Epoch 64/100\n",
      "1385/1385 [==============================] - 0s 328us/sample - loss: 0.6863 - accuracy: 0.5560\n",
      "Epoch 65/100\n",
      "1385/1385 [==============================] - 0s 327us/sample - loss: 0.6851 - accuracy: 0.5552\n",
      "Epoch 66/100\n",
      "1385/1385 [==============================] - 0s 340us/sample - loss: 0.6861 - accuracy: 0.5552\n",
      "Epoch 67/100\n",
      "1385/1385 [==============================] - 0s 328us/sample - loss: 0.6860 - accuracy: 0.5516\n",
      "Epoch 68/100\n",
      "1385/1385 [==============================] - 0s 328us/sample - loss: 0.6863 - accuracy: 0.5531 - loss: 0.6882 - accu\n",
      "Epoch 69/100\n",
      "1385/1385 [==============================] - 0s 339us/sample - loss: 0.6841 - accuracy: 0.5610\n",
      "Epoch 70/100\n",
      "1385/1385 [==============================] - 0s 325us/sample - loss: 0.6848 - accuracy: 0.5690\n",
      "Epoch 71/100\n",
      "1385/1385 [==============================] - 0s 347us/sample - loss: 0.6850 - accuracy: 0.5574\n",
      "Epoch 72/100\n",
      "1385/1385 [==============================] - 0s 328us/sample - loss: 0.6855 - accuracy: 0.5545\n",
      "Epoch 73/100\n",
      "1385/1385 [==============================] - 0s 347us/sample - loss: 0.6850 - accuracy: 0.5610\n",
      "Epoch 74/100\n",
      "1385/1385 [==============================] - 0s 326us/sample - loss: 0.6842 - accuracy: 0.5653\n",
      "Epoch 75/100\n",
      "1385/1385 [==============================] - 0s 337us/sample - loss: 0.6860 - accuracy: 0.5581\n",
      "Epoch 76/100\n"
     ]
    },
    {
     "name": "stdout",
     "output_type": "stream",
     "text": [
      "1385/1385 [==============================] - 0s 326us/sample - loss: 0.6862 - accuracy: 0.5610\n",
      "Epoch 77/100\n",
      "1385/1385 [==============================] - 0s 327us/sample - loss: 0.6862 - accuracy: 0.5632\n",
      "Epoch 78/100\n",
      "1385/1385 [==============================] - 0s 322us/sample - loss: 0.6882 - accuracy: 0.5502\n",
      "Epoch 79/100\n",
      "1385/1385 [==============================] - 0s 325us/sample - loss: 0.6872 - accuracy: 0.5545\n",
      "Epoch 80/100\n",
      "1385/1385 [==============================] - 0s 323us/sample - loss: 0.6882 - accuracy: 0.5538\n",
      "Epoch 81/100\n",
      "1385/1385 [==============================] - 0s 326us/sample - loss: 0.6863 - accuracy: 0.5531\n",
      "Epoch 82/100\n",
      "1385/1385 [==============================] - 0s 326us/sample - loss: 0.6844 - accuracy: 0.5646\n",
      "Epoch 83/100\n",
      "1385/1385 [==============================] - 0s 323us/sample - loss: 0.6855 - accuracy: 0.5588\n",
      "Epoch 84/100\n",
      "1385/1385 [==============================] - 0s 326us/sample - loss: 0.6851 - accuracy: 0.5632\n",
      "Epoch 85/100\n",
      "1385/1385 [==============================] - 0s 323us/sample - loss: 0.6872 - accuracy: 0.5509\n",
      "Epoch 86/100\n",
      "1385/1385 [==============================] - 0s 331us/sample - loss: 0.6841 - accuracy: 0.5632\n",
      "Epoch 87/100\n",
      "1385/1385 [==============================] - 0s 319us/sample - loss: 0.6886 - accuracy: 0.5458\n",
      "Epoch 88/100\n",
      "1385/1385 [==============================] - 0s 326us/sample - loss: 0.6852 - accuracy: 0.5617\n",
      "Epoch 89/100\n",
      "1385/1385 [==============================] - 0s 327us/sample - loss: 0.6865 - accuracy: 0.5502\n",
      "Epoch 90/100\n",
      "1385/1385 [==============================] - 0s 329us/sample - loss: 0.6849 - accuracy: 0.5617\n",
      "Epoch 91/100\n",
      "1385/1385 [==============================] - 0s 321us/sample - loss: 0.6835 - accuracy: 0.5646\n",
      "Epoch 92/100\n",
      "1385/1385 [==============================] - 0s 322us/sample - loss: 0.6843 - accuracy: 0.5567\n",
      "Epoch 93/100\n",
      "1385/1385 [==============================] - 0s 328us/sample - loss: 0.6848 - accuracy: 0.5588\n",
      "Epoch 94/100\n",
      "1385/1385 [==============================] - 0s 327us/sample - loss: 0.6846 - accuracy: 0.5653\n",
      "Epoch 95/100\n",
      "1385/1385 [==============================] - 0s 328us/sample - loss: 0.6874 - accuracy: 0.5502\n",
      "Epoch 96/100\n",
      "1385/1385 [==============================] - 0s 328us/sample - loss: 0.6886 - accuracy: 0.5509\n",
      "Epoch 97/100\n",
      "1385/1385 [==============================] - 0s 331us/sample - loss: 0.6880 - accuracy: 0.5509\n",
      "Epoch 98/100\n",
      "1385/1385 [==============================] - 0s 329us/sample - loss: 0.6885 - accuracy: 0.5509\n",
      "Epoch 99/100\n",
      "1385/1385 [==============================] - 0s 328us/sample - loss: 0.6876 - accuracy: 0.5509\n",
      "Epoch 100/100\n",
      "1385/1385 [==============================] - 0s 329us/sample - loss: 0.6882 - accuracy: 0.5502\n"
     ]
    }
   ],
   "source": [
    "history = model.fit(X_train, y_train, epochs=100, batch_size=32, verbose=True)"
   ]
  },
  {
   "cell_type": "code",
   "execution_count": 39,
   "metadata": {},
   "outputs": [
    {
     "name": "stdout",
     "output_type": "stream",
     "text": [
      "Training Accuracy: 0.55162454\n"
     ]
    }
   ],
   "source": [
    "train_acc = model.evaluate(X_train, y_train, verbose=False)[1]\n",
    "print('Training Accuracy:', train_acc)"
   ]
  },
  {
   "cell_type": "code",
   "execution_count": 40,
   "metadata": {},
   "outputs": [],
   "source": [
    "import matplotlib.pyplot as plt\n",
    "%matplotlib inline"
   ]
  },
  {
   "cell_type": "code",
   "execution_count": 41,
   "metadata": {},
   "outputs": [
    {
     "data": {
      "image/png": "[encoded data removed]",
      "text/plain": [
       "<Figure size 576x288 with 1 Axes>"
      ]
     },
     "metadata": {
      "needs_background": "light"
     },
     "output_type": "display_data"
    }
   ],
   "source": [
    "fig = plt.figure(figsize=[8, 4])\n",
    "plt.plot(history.history['accuracy'])\n",
    "plt.title('Training Accuracy')\n",
    "plt.xlabel('Epoch')\n",
    "plt.show()"
   ]
  },
  {
   "cell_type": "markdown",
   "metadata": {},
   "source": [
    "## Model Testing"
   ]
  },
  {
   "cell_type": "code",
   "execution_count": 42,
   "metadata": {},
   "outputs": [
    {
     "name": "stdout",
     "output_type": "stream",
     "text": [
      "Testing Accuracy: 0.53896105\n"
     ]
    }
   ],
   "source": [
    "test_acc = model.evaluate(X_test, y_test, verbose=False)[1]\n",
    "print('Testing Accuracy:', test_acc)"
   ]
  },
  {
   "cell_type": "markdown",
   "metadata": {},
   "source": [
    "BOOM! TIME TO MAKE SOME MONEY"
   ]
  },
  {
   "cell_type": "markdown",
   "metadata": {},
   "source": [
    "# Trading Time"
   ]
  },
  {
   "cell_type": "code",
   "execution_count": 44,
   "metadata": {},
   "outputs": [],
   "source": [
    "  # USD"
   ]
  },
  {
   "cell_type": "code",
   "execution_count": 53,
   "metadata": {},
   "outputs": [
    {
     "data": {
      "text/plain": [
       "((100, 100, 5), (100, 5))"
      ]
     },
     "execution_count": 53,
     "metadata": {},
     "output_type": "execute_result"
    }
   ],
   "source": [
    "X_holdout.shape, y_holdout.shape"
   ]
  },
  {
   "cell_type": "code",
   "execution_count": 79,
   "metadata": {
    "scrolled": true
   },
   "outputs": [],
   "source": [
    "money = 1000\n",
    "output = []\n",
    "buys, sells = 0, 0\n",
    "for day, data in enumerate(zip(X_holdout, y_holdout)):\n",
    "    history, _open, close = data[0], data[1][0], data[1][3]\n",
    "    pred = model.predict(np.reshape(history, (1, history.shape[0], history.shape[1])))\n",
    "    if pred > 0.5:\n",
    "        buys += 1\n",
    "        money = close/_open * money\n",
    "    else:\n",
    "        sells += 1\n",
    "    output.append(money)"
   ]
  },
  {
   "cell_type": "code",
   "execution_count": 80,
   "metadata": {},
   "outputs": [
    {
     "data": {
      "text/plain": [
       "(100, 0)"
      ]
     },
     "execution_count": 80,
     "metadata": {},
     "output_type": "execute_result"
    }
   ],
   "source": [
    "buys, sells"
   ]
  },
  {
   "cell_type": "markdown",
   "metadata": {},
   "source": [
    "Seeing as we are buying every day then it will just follow the BTC price..... Need to fix class imbalance"
   ]
  },
  {
   "cell_type": "code",
   "execution_count": 73,
   "metadata": {},
   "outputs": [
    {
     "data": {
      "text/plain": [
       "[<matplotlib.lines.Line2D at 0x1edbb3cc608>]"
      ]
     },
     "execution_count": 73,
     "metadata": {},
     "output_type": "execute_result"
    },
    {
     "data": {
      "image/png": "[encoded data removed]",
      "text/plain": [
       "<Figure size 432x288 with 1 Axes>"
      ]
     },
     "metadata": {
      "needs_background": "light"
     },
     "output_type": "display_data"
    }
   ],
   "source": [
    "plt.plot(output)"
   ]
  },
  {
   "cell_type": "code",
   "execution_count": 74,
   "metadata": {},
   "outputs": [],
   "source": [
    "price = y_holdout[:,3]"
   ]
  },
  {
   "cell_type": "code",
   "execution_count": 77,
   "metadata": {},
   "outputs": [
    {
     "data": {
      "text/plain": [
       "[<matplotlib.lines.Line2D at 0x1edbb476a88>]"
      ]
     },
     "execution_count": 77,
     "metadata": {},
     "output_type": "execute_result"
    },
    {
     "data": {
      "image/png": "[encoded data removed]",
      "text/plain": [
       "<Figure size 432x288 with 1 Axes>"
      ]
     },
     "metadata": {
      "needs_background": "light"
     },
     "output_type": "display_data"
    }
   ],
   "source": [
    "plt.plot(price)"
   ]
  },
  {
   "cell_type": "code",
   "execution_count": null,
   "metadata": {},
   "outputs": [],
   "source": []
  }
 ],
 "metadata": {
  "kernelspec": {
   "display_name": "Python 3",
   "language": "python",
   "name": "python3"
  },
  "language_info": {
   "codemirror_mode": {
    "name": "ipython",
    "version": 3
   },
   "file_extension": ".py",
   "mimetype": "text/x-python",
   "name": "python",
   "nbconvert_exporter": "python",
   "pygments_lexer": "ipython3",
   "version": "3.7.4"
  }
 },
 "nbformat": 4,
 "nbformat_minor": 2
}
