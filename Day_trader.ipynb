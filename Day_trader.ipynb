{
 "cells": [
  {
   "cell_type": "markdown",
   "metadata": {},
   "source": [
    "Train a DL model to predict whether the BTC price will go up or down from open to close each day. \n",
    "\n",
    "Then create a trading simulator to see how much money we can make."
   ]
  },
  {
   "cell_type": "markdown",
   "metadata": {},
   "source": [
    "# LSTM Model"
   ]
  },
  {
   "cell_type": "markdown",
   "metadata": {},
   "source": [
    "## Data Pre-processing"
   ]
  },
  {
   "cell_type": "markdown",
   "metadata": {},
   "source": [
    "### Get Data"
   ]
  },
  {
   "cell_type": "code",
   "execution_count": 1,
   "metadata": {},
   "outputs": [],
   "source": [
    "import yfinance as yf\n",
    "msft = yf.Ticker(\"BTC-USD\")\n",
    "btc_usd_hist = msft.history(period=\"max\")"
   ]
  },
  {
   "cell_type": "code",
   "execution_count": 2,
   "metadata": {},
   "outputs": [],
   "source": [
    "dataset = btc_usd_hist[['Open','High','Low','Close','Volume']]"
   ]
  },
  {
   "cell_type": "code",
   "execution_count": 3,
   "metadata": {},
   "outputs": [],
   "source": [
    "data = dataset.values # get np array version"
   ]
  },
  {
   "cell_type": "code",
   "execution_count": 4,
   "metadata": {},
   "outputs": [
    {
     "data": {
      "text/plain": [
       "(2050, 5)"
      ]
     },
     "execution_count": 4,
     "metadata": {},
     "output_type": "execute_result"
    }
   ],
   "source": [
    "data.shape"
   ]
  },
  {
   "cell_type": "markdown",
   "metadata": {},
   "source": [
    "### Scaling Data"
   ]
  },
  {
   "cell_type": "code",
   "execution_count": 5,
   "metadata": {},
   "outputs": [],
   "source": [
    "from sklearn.preprocessing import MinMaxScaler"
   ]
  },
  {
   "cell_type": "code",
   "execution_count": 6,
   "metadata": {},
   "outputs": [],
   "source": [
    "sc = MinMaxScaler(feature_range=(0,1))\n",
    "# data_scaled = sc.fit_transform(data)"
   ]
  },
  {
   "cell_type": "markdown",
   "metadata": {},
   "source": [
    "### Create inputs and outputs"
   ]
  },
  {
   "cell_type": "code",
   "execution_count": 7,
   "metadata": {},
   "outputs": [],
   "source": [
    "import numpy as np"
   ]
  },
  {
   "cell_type": "code",
   "execution_count": 8,
   "metadata": {},
   "outputs": [],
   "source": [
    "wl = 256"
   ]
  },
  {
   "cell_type": "code",
   "execution_count": 9,
   "metadata": {},
   "outputs": [],
   "source": [
    "X = np.array([sc.fit_transform(data[i-wl:i, :]) for i in range(wl, len(data))])"
   ]
  },
  {
   "cell_type": "code",
   "execution_count": 10,
   "metadata": {},
   "outputs": [],
   "source": [
    "y = []\n",
    "for i in range(wl, len(data)):\n",
    "    diff = data[i, 3] - data[i, 0]  # close - open\n",
    "    y.append(1 if diff > 0 else 0)\n",
    "y = np.array(y)"
   ]
  },
  {
   "cell_type": "code",
   "execution_count": 11,
   "metadata": {},
   "outputs": [
    {
     "name": "stdout",
     "output_type": "stream",
     "text": [
      "Days increased: 986\n",
      "Days Decreased: 808\n"
     ]
    }
   ],
   "source": [
    "print('Days increased:', sum(y))\n",
    "print('Days Decreased:', len(y) - sum(y))"
   ]
  },
  {
   "cell_type": "code",
   "execution_count": 12,
   "metadata": {},
   "outputs": [
    {
     "data": {
      "text/plain": [
       "((1794, 256, 5), (1794,))"
      ]
     },
     "execution_count": 12,
     "metadata": {},
     "output_type": "execute_result"
    }
   ],
   "source": [
    "X.shape, y.shape"
   ]
  },
  {
   "cell_type": "markdown",
   "metadata": {},
   "source": [
    "For the trading simulator we want the full information of the next day, not just whether it went up or down."
   ]
  },
  {
   "cell_type": "code",
   "execution_count": 13,
   "metadata": {},
   "outputs": [],
   "source": [
    "y_full = np.array([data[i, :] for i in range(wl, len(data))])"
   ]
  },
  {
   "cell_type": "markdown",
   "metadata": {},
   "source": [
    "### Split Data"
   ]
  },
  {
   "cell_type": "markdown",
   "metadata": {},
   "source": [
    "Get training and testing dataset for model development and hold-out dataset for trading simlation at end"
   ]
  },
  {
   "cell_type": "code",
   "execution_count": 14,
   "metadata": {},
   "outputs": [],
   "source": [
    "len_holdout=100"
   ]
  },
  {
   "cell_type": "code",
   "execution_count": 15,
   "metadata": {},
   "outputs": [],
   "source": [
    "X_train_and_test, X_holdout = X[:-len_holdout], X[-len_holdout:]\n",
    "y_train_and_test, y_holdout = y[:-len_holdout], y_full[-len_holdout:]"
   ]
  },
  {
   "cell_type": "code",
   "execution_count": 16,
   "metadata": {},
   "outputs": [],
   "source": [
    "from sklearn.model_selection import train_test_split"
   ]
  },
  {
   "cell_type": "code",
   "execution_count": 17,
   "metadata": {},
   "outputs": [],
   "source": [
    "X_train, X_test, y_train, y_test = train_test_split(X_train_and_test, y_train_and_test, test_size=0.25, random_state=0)"
   ]
  },
  {
   "cell_type": "code",
   "execution_count": 18,
   "metadata": {},
   "outputs": [
    {
     "data": {
      "text/plain": [
       "((1270, 256, 5), (424, 256, 5), (1270,), (424,))"
      ]
     },
     "execution_count": 18,
     "metadata": {},
     "output_type": "execute_result"
    }
   ],
   "source": [
    "X_train.shape, X_test.shape, y_train.shape, y_test.shape"
   ]
  },
  {
   "cell_type": "code",
   "execution_count": 19,
   "metadata": {},
   "outputs": [
    {
     "data": {
      "text/plain": [
       "(1270,)"
      ]
     },
     "execution_count": 19,
     "metadata": {},
     "output_type": "execute_result"
    }
   ],
   "source": [
    "y_train.shape"
   ]
  },
  {
   "cell_type": "markdown",
   "metadata": {},
   "source": [
    "## Model Building"
   ]
  },
  {
   "cell_type": "code",
   "execution_count": 20,
   "metadata": {},
   "outputs": [],
   "source": [
    "from tensorflow.keras.models import Sequential\n",
    "from tensorflow.keras.layers import Activation, Dense, Dropout, LSTM, BatchNormalization"
   ]
  },
  {
   "cell_type": "code",
   "execution_count": 21,
   "metadata": {},
   "outputs": [],
   "source": [
    "from tensorflow.keras import metrics\n",
    "from tensorflow.keras import initializers"
   ]
  },
  {
   "cell_type": "code",
   "execution_count": 22,
   "metadata": {},
   "outputs": [],
   "source": [
    "def build_lstm_model(data, dropout=0.0):\n",
    "    model = Sequential()\n",
    "    # layer \n",
    "    model.add(LSTM(units=256, return_sequences=True, input_shape=(data.shape[1], data.shape[2])))\n",
    "    model.add(Dropout(dropout))\n",
    "    model.add(BatchNormalization())\n",
    "    # layer \n",
    "    model.add(LSTM(units=256, return_sequences=True))\n",
    "    model.add(Dropout(dropout))\n",
    "    model.add(BatchNormalization())\n",
    "    # layer \n",
    "    model.add(LSTM(units=32))\n",
    "    model.add(Dropout(dropout))\n",
    "    model.add(BatchNormalization())\n",
    "    # ouput layer\n",
    "    model.add(Dense(units=1))\n",
    "    model.add(Activation('sigmoid'))\n",
    "    model.compile(optimizer='adam', loss='binary_crossentropy', metrics=['accuracy'])\n",
    "    return model"
   ]
  },
  {
   "cell_type": "code",
   "execution_count": 23,
   "metadata": {},
   "outputs": [],
   "source": [
    "pos = sum(y_train)\n",
    "neg = len(y_train) - sum(y_train)\n",
    "total = len(y_train)"
   ]
  },
  {
   "cell_type": "code",
   "execution_count": 24,
   "metadata": {},
   "outputs": [
    {
     "data": {
      "text/plain": [
       "0.25971783907728546"
      ]
     },
     "execution_count": 24,
     "metadata": {},
     "output_type": "execute_result"
    }
   ],
   "source": [
    "initial_bias = np.log(pos/neg)\n",
    "initial_bias  # bias_initializer = initializers.Constant(value=initial_bias)) for Dense"
   ]
  },
  {
   "cell_type": "code",
   "execution_count": 25,
   "metadata": {},
   "outputs": [],
   "source": [
    "model = build_lstm_model(X_train)"
   ]
  },
  {
   "cell_type": "code",
   "execution_count": 26,
   "metadata": {},
   "outputs": [
    {
     "name": "stdout",
     "output_type": "stream",
     "text": [
      "Weight for class 0: 1.15\n",
      "Weight for class 1: 0.89\n"
     ]
    }
   ],
   "source": [
    "weight_for_0 = (1 / neg)*(total)/2.0 \n",
    "weight_for_1 = (1 / pos)*(total)/2.0\n",
    "\n",
    "class_weight = {0: weight_for_0, 1: weight_for_1}\n",
    "\n",
    "print('Weight for class 0: {:.2f}'.format(weight_for_0))\n",
    "print('Weight for class 1: {:.2f}'.format(weight_for_1))"
   ]
  },
  {
   "cell_type": "markdown",
   "metadata": {},
   "source": [
    "## Model Training"
   ]
  },
  {
   "cell_type": "code",
   "execution_count": 27,
   "metadata": {
    "scrolled": true
   },
   "outputs": [
    {
     "name": "stdout",
     "output_type": "stream",
     "text": [
      "Train on 1270 samples\n",
      "Epoch 1/50\n",
      "1270/1270 [==============================] - 8s 6ms/sample - loss: 0.8035 - accuracy: 0.4961\n",
      "Epoch 2/50\n",
      "1270/1270 [==============================] - 1s 617us/sample - loss: 0.7187 - accuracy: 0.4976\n",
      "Epoch 3/50\n",
      "1270/1270 [==============================] - 1s 617us/sample - loss: 0.6944 - accuracy: 0.5457\n",
      "Epoch 4/50\n",
      "1270/1270 [==============================] - 1s 617us/sample - loss: 0.6904 - accuracy: 0.5362\n",
      "Epoch 5/50\n",
      "1270/1270 [==============================] - 1s 612us/sample - loss: 0.6926 - accuracy: 0.5165\n",
      "Epoch 6/50\n",
      "1270/1270 [==============================] - 1s 616us/sample - loss: 0.6932 - accuracy: 0.5386\n",
      "Epoch 7/50\n",
      "1270/1270 [==============================] - 1s 611us/sample - loss: 0.6859 - accuracy: 0.5528\n",
      "Epoch 8/50\n",
      "1270/1270 [==============================] - 1s 614us/sample - loss: 0.6853 - accuracy: 0.5551\n",
      "Epoch 9/50\n",
      "1270/1270 [==============================] - 1s 614us/sample - loss: 0.6857 - accuracy: 0.5512\n",
      "Epoch 10/50\n",
      "1270/1270 [==============================] - 1s 620us/sample - loss: 0.6864 - accuracy: 0.5496\n",
      "Epoch 11/50\n",
      "1270/1270 [==============================] - 1s 612us/sample - loss: 0.6882 - accuracy: 0.5165\n",
      "Epoch 12/50\n",
      "1270/1270 [==============================] - 1s 613us/sample - loss: 0.6890 - accuracy: 0.5331\n",
      "Epoch 13/50\n",
      "1270/1270 [==============================] - 1s 612us/sample - loss: 0.6908 - accuracy: 0.5402\n",
      "Epoch 14/50\n",
      "1270/1270 [==============================] - 1s 606us/sample - loss: 0.6845 - accuracy: 0.5551\n",
      "Epoch 15/50\n",
      "1270/1270 [==============================] - 1s 610us/sample - loss: 0.6829 - accuracy: 0.5457\n",
      "Epoch 16/50\n",
      "1270/1270 [==============================] - 1s 607us/sample - loss: 0.6791 - accuracy: 0.5622\n",
      "Epoch 17/50\n",
      "1270/1270 [==============================] - 1s 611us/sample - loss: 0.6786 - accuracy: 0.5685\n",
      "Epoch 18/50\n",
      "1270/1270 [==============================] - 1s 612us/sample - loss: 0.6790 - accuracy: 0.5559\n",
      "Epoch 19/50\n",
      "1270/1270 [==============================] - 1s 615us/sample - loss: 0.6785 - accuracy: 0.5780\n",
      "Epoch 20/50\n",
      "1270/1270 [==============================] - 1s 610us/sample - loss: 0.6818 - accuracy: 0.5661\n",
      "Epoch 21/50\n",
      "1270/1270 [==============================] - 1s 612us/sample - loss: 0.6744 - accuracy: 0.5606\n",
      "Epoch 22/50\n",
      "1270/1270 [==============================] - 1s 609us/sample - loss: 0.6827 - accuracy: 0.5654\n",
      "Epoch 23/50\n",
      "1270/1270 [==============================] - 1s 615us/sample - loss: 0.6799 - accuracy: 0.5724\n",
      "Epoch 24/50\n",
      "1270/1270 [==============================] - 1s 612us/sample - loss: 0.6924 - accuracy: 0.5362\n",
      "Epoch 25/50\n",
      "1270/1270 [==============================] - 1s 608us/sample - loss: 0.6806 - accuracy: 0.5583\n",
      "Epoch 26/50\n",
      "1270/1270 [==============================] - 1s 608us/sample - loss: 0.6765 - accuracy: 0.5583\n",
      "Epoch 27/50\n",
      "1270/1270 [==============================] - 1s 609us/sample - loss: 0.6774 - accuracy: 0.5575\n",
      "Epoch 28/50\n",
      "1270/1270 [==============================] - 1s 612us/sample - loss: 0.6718 - accuracy: 0.5575\n",
      "Epoch 29/50\n",
      "1270/1270 [==============================] - 1s 610us/sample - loss: 0.6734 - accuracy: 0.5661\n",
      "Epoch 30/50\n",
      "1270/1270 [==============================] - 1s 610us/sample - loss: 0.6758 - accuracy: 0.5449\n",
      "Epoch 31/50\n",
      "1270/1270 [==============================] - 1s 617us/sample - loss: 0.6738 - accuracy: 0.5646\n",
      "Epoch 32/50\n",
      "1270/1270 [==============================] - 1s 614us/sample - loss: 0.6686 - accuracy: 0.5898\n",
      "Epoch 33/50\n",
      "1270/1270 [==============================] - 1s 608us/sample - loss: 0.6730 - accuracy: 0.5654\n",
      "Epoch 34/50\n",
      "1270/1270 [==============================] - 1s 609us/sample - loss: 0.6740 - accuracy: 0.5551\n",
      "Epoch 35/50\n",
      "1270/1270 [==============================] - 1s 612us/sample - loss: 0.6716 - accuracy: 0.5748\n",
      "Epoch 36/50\n",
      "1270/1270 [==============================] - 1s 612us/sample - loss: 0.6718 - accuracy: 0.5661\n",
      "Epoch 37/50\n",
      "1270/1270 [==============================] - 1s 621us/sample - loss: 0.6735 - accuracy: 0.5528\n",
      "Epoch 38/50\n",
      "1270/1270 [==============================] - 1s 615us/sample - loss: 0.6769 - accuracy: 0.5638\n",
      "Epoch 39/50\n",
      "1270/1270 [==============================] - 1s 607us/sample - loss: 0.6712 - accuracy: 0.5677\n",
      "Epoch 40/50\n",
      "1270/1270 [==============================] - 1s 613us/sample - loss: 0.6682 - accuracy: 0.5583\n",
      "Epoch 41/50\n",
      "1270/1270 [==============================] - 1s 610us/sample - loss: 0.6660 - accuracy: 0.5701\n",
      "Epoch 42/50\n",
      "1270/1270 [==============================] - 1s 614us/sample - loss: 0.6642 - accuracy: 0.5654\n",
      "Epoch 43/50\n",
      "1270/1270 [==============================] - 1s 614us/sample - loss: 0.6632 - accuracy: 0.5827\n",
      "Epoch 44/50\n",
      "1270/1270 [==============================] - 1s 614us/sample - loss: 0.6695 - accuracy: 0.5543\n",
      "Epoch 45/50\n",
      "1270/1270 [==============================] - 1s 612us/sample - loss: 0.6722 - accuracy: 0.5740\n",
      "Epoch 46/50\n",
      "1270/1270 [==============================] - 1s 633us/sample - loss: 0.6644 - accuracy: 0.5827\n",
      "Epoch 47/50\n",
      "1270/1270 [==============================] - 1s 645us/sample - loss: 0.6614 - accuracy: 0.5858\n",
      "Epoch 48/50\n",
      "1270/1270 [==============================] - 1s 660us/sample - loss: 0.6650 - accuracy: 0.5772\n",
      "Epoch 49/50\n",
      "1270/1270 [==============================] - 1s 663us/sample - loss: 0.6641 - accuracy: 0.5803\n",
      "Epoch 50/50\n",
      "1270/1270 [==============================] - 1s 626us/sample - loss: 0.6624 - accuracy: 0.5772\n"
     ]
    }
   ],
   "source": [
    "history = model.fit(X_train, y_train, epochs=50, batch_size=128, verbose=True, class_weight=class_weight)"
   ]
  },
  {
   "cell_type": "code",
   "execution_count": 28,
   "metadata": {},
   "outputs": [
    {
     "name": "stdout",
     "output_type": "stream",
     "text": [
      "Training Accuracy: 0.5385827\n"
     ]
    }
   ],
   "source": [
    "train_acc = model.evaluate(X_train, y_train, verbose=False)[1]\n",
    "print('Training Accuracy:', train_acc)"
   ]
  },
  {
   "cell_type": "code",
   "execution_count": 29,
   "metadata": {},
   "outputs": [],
   "source": [
    "import matplotlib.pyplot as plt\n",
    "%matplotlib inline"
   ]
  },
  {
   "cell_type": "code",
   "execution_count": 30,
   "metadata": {},
   "outputs": [
    {
     "data": {
      "image/png": "[encoded data removed]",
      "text/plain": [
       "<Figure size 576x288 with 1 Axes>"
      ]
     },
     "metadata": {
      "needs_background": "light"
     },
     "output_type": "display_data"
    }
   ],
   "source": [
    "fig = plt.figure(figsize=[8, 4])\n",
    "plt.plot(history.history['accuracy'])\n",
    "plt.title('Training Accuracy')\n",
    "plt.xlabel('Epoch')\n",
    "plt.show()"
   ]
  },
  {
   "cell_type": "markdown",
   "metadata": {},
   "source": [
    "## Model Testing"
   ]
  },
  {
   "cell_type": "code",
   "execution_count": 31,
   "metadata": {},
   "outputs": [
    {
     "name": "stdout",
     "output_type": "stream",
     "text": [
      "Testing Accuracy: 0.509434\n"
     ]
    }
   ],
   "source": [
    "test_acc = model.evaluate(X_test, y_test, verbose=False)[1]\n",
    "print('Testing Accuracy:', test_acc)"
   ]
  },
  {
   "cell_type": "code",
   "execution_count": 32,
   "metadata": {},
   "outputs": [],
   "source": [
    "y_pred = model.predict(X_test)\n",
    "y_pred = (y_pred > 0.5)"
   ]
  },
  {
   "cell_type": "code",
   "execution_count": 33,
   "metadata": {},
   "outputs": [],
   "source": [
    "from sklearn.metrics import confusion_matrix, classification_report"
   ]
  },
  {
   "cell_type": "code",
   "execution_count": 34,
   "metadata": {},
   "outputs": [
    {
     "name": "stdout",
     "output_type": "stream",
     "text": [
      "TP: 134 \t FP: 122 \n",
      "FN: 82 \t\t TN: 82 \n"
     ]
    }
   ],
   "source": [
    "cm = confusion_matrix(y_test, y_pred)\n",
    "tn, fp, fn, tp = cm.ravel()\n",
    "print(f'TP: {tp} \\t FP: {fp} ')\n",
    "print(f'FN: {tn} \\t\\t TN: {tn} ')"
   ]
  },
  {
   "cell_type": "code",
   "execution_count": 35,
   "metadata": {},
   "outputs": [
    {
     "name": "stdout",
     "output_type": "stream",
     "text": [
      "              precision    recall  f1-score   support\n",
      "\n",
      "           0       0.49      0.40      0.44       204\n",
      "           1       0.52      0.61      0.56       220\n",
      "\n",
      "    accuracy                           0.51       424\n",
      "   macro avg       0.51      0.51      0.50       424\n",
      "weighted avg       0.51      0.51      0.50       424\n",
      "\n"
     ]
    }
   ],
   "source": [
    "cr = classification_report(y_test, y_pred)\n",
    "print(cr)"
   ]
  },
  {
   "cell_type": "markdown",
   "metadata": {},
   "source": [
    "BOOM! TIME TO MAKE SOME MONEY"
   ]
  },
  {
   "cell_type": "markdown",
   "metadata": {},
   "source": [
    "# Trading Time"
   ]
  },
  {
   "cell_type": "code",
   "execution_count": 37,
   "metadata": {},
   "outputs": [
    {
     "data": {
      "text/plain": [
       "((100, 256, 5), (100, 5))"
      ]
     },
     "execution_count": 37,
     "metadata": {},
     "output_type": "execute_result"
    }
   ],
   "source": [
    "X_holdout.shape, y_holdout.shape"
   ]
  },
  {
   "cell_type": "markdown",
   "metadata": {},
   "source": [
    "Let's see how much money we would have made if we did this over the last 100 days:"
   ]
  },
  {
   "cell_type": "code",
   "execution_count": 45,
   "metadata": {
    "scrolled": true
   },
   "outputs": [],
   "source": [
    "money = 1000\n",
    "output = []\n",
    "long, short = 0, 0\n",
    "for day, data in enumerate(zip(X_holdout, y_holdout)):\n",
    "    history, _open, close = data[0], data[1][0], data[1][3]\n",
    "    pred = model.predict(np.reshape(history, (1, history.shape[0], history.shape[1])))\n",
    "    if pred > 0.5:\n",
    "        long += 1\n",
    "        money = close/_open * money\n",
    "    else:\n",
    "        short += 1\n",
    "        money = _open/close * money\n",
    "    output.append(money)"
   ]
  },
  {
   "cell_type": "code",
   "execution_count": 47,
   "metadata": {},
   "outputs": [
    {
     "data": {
      "text/plain": [
       "(9, 91)"
      ]
     },
     "execution_count": 47,
     "metadata": {},
     "output_type": "execute_result"
    }
   ],
   "source": [
    "long, short"
   ]
  },
  {
   "cell_type": "code",
   "execution_count": 51,
   "metadata": {},
   "outputs": [
    {
     "name": "stdout",
     "output_type": "stream",
     "text": [
      "Profit: 106.0%\n"
     ]
    }
   ],
   "source": [
    "profit = (money - 1000)/10\n",
    "print(f'Profit: {round(profit)}%')"
   ]
  },
  {
   "cell_type": "code",
   "execution_count": 48,
   "metadata": {},
   "outputs": [
    {
     "data": {
      "text/plain": [
       "[<matplotlib.lines.Line2D at 0x22c19967b08>]"
      ]
     },
     "execution_count": 48,
     "metadata": {},
     "output_type": "execute_result"
    },
    {
     "data": {
      "image/png": "[encoded data removed]",
      "text/plain": [
       "<Figure size 432x288 with 1 Axes>"
      ]
     },
     "metadata": {
      "needs_background": "light"
     },
     "output_type": "display_data"
    }
   ],
   "source": [
    "plt.plot(output)\n",
    "plt.title(Money over time)\n",
    "plt.xlabel('Days')\n",
    "plt.ylabel('USD')"
   ]
  },
  {
   "cell_type": "markdown",
   "metadata": {},
   "source": [
    "Let's show the BTC price over this time period for comparison"
   ]
  },
  {
   "cell_type": "code",
   "execution_count": 42,
   "metadata": {},
   "outputs": [],
   "source": [
    "price = y_holdout[:,3]"
   ]
  },
  {
   "cell_type": "code",
   "execution_count": 43,
   "metadata": {},
   "outputs": [
    {
     "data": {
      "text/plain": [
       "[<matplotlib.lines.Line2D at 0x22c14212a48>]"
      ]
     },
     "execution_count": 43,
     "metadata": {},
     "output_type": "execute_result"
    },
    {
     "data": {
      "image/png": "[encoded data removed]",
      "text/plain": [
       "<Figure size 432x288 with 1 Axes>"
      ]
     },
     "metadata": {
      "needs_background": "light"
     },
     "output_type": "display_data"
    }
   ],
   "source": [
    "plt.plot(price)"
   ]
  }
 ],
 "metadata": {
  "kernelspec": {
   "display_name": "Python 3",
   "language": "python",
   "name": "python3"
  },
  "language_info": {
   "codemirror_mode": {
    "name": "ipython",
    "version": 3
   },
   "file_extension": ".py",
   "mimetype": "text/x-python",
   "name": "python",
   "nbconvert_exporter": "python",
   "pygments_lexer": "ipython3",
   "version": "3.7.4"
  }
 },
 "nbformat": 4,
 "nbformat_minor": 2
}
